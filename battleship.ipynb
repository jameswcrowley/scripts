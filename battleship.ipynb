{
 "cells": [
  {
   "cell_type": "code",
   "execution_count": 12,
   "id": "5ae93998",
   "metadata": {},
   "outputs": [],
   "source": [
    "import numpy as np\n",
    "import matplotlib.pyplot as plt\n",
    "import random"
   ]
  },
  {
   "cell_type": "markdown",
   "id": "3512980b",
   "metadata": {},
   "source": [
    "## Battleship\n",
    "\n",
    "I'd like to code a battleship game against a computer in this notebook\n",
    "\n",
    "1. coding background game\n",
    "2. coding visualization using matplotlib (?)"
   ]
  },
  {
   "cell_type": "code",
   "execution_count": 9,
   "id": "89332459",
   "metadata": {},
   "outputs": [
    {
     "data": {
      "text/plain": [
       "<matplotlib.image.AxesImage at 0x7f9bee361df0>"
      ]
     },
     "execution_count": 9,
     "metadata": {},
     "output_type": "execute_result"
    },
    {
     "data": {
      "image/png": "[encoded data removed]",
      "text/plain": [
       "<Figure size 720x720 with 1 Axes>"
      ]
     },
     "metadata": {
      "needs_background": "light"
     },
     "output_type": "display_data"
    }
   ],
   "source": [
    "# creating an array of \"spots\" with numpy\n",
    "\n",
    "size = 5\n",
    "board = np.zeros((size, size)) # 0 = water, 1 = ship\n",
    "\n",
    "# for simplicity, starting with ONLY 1x1 ships\n",
    "\n",
    "ship1 = ((1, 1))\n",
    "ship2 = ((3, 3))\n",
    "\n",
    "board[ship1], board[ship2] = 1, 1\n",
    "\n",
    "#plt.figure(figsize = [10, 10])\n",
    "#plt.imshow(board)"
   ]
  },
  {
   "cell_type": "code",
   "execution_count": 80,
   "id": "a83957bf",
   "metadata": {},
   "outputs": [],
   "source": [
    "# coding a random \"computer guesser\" which won't guess the same square twice\n",
    "\n",
    "def make_guess(size, guesses):\n",
    "    size = size - 1\n",
    "    guess = (random.randint(0, size), random.randint(0, size))\n",
    "    while guess in guesses:\n",
    "        guess = (random.randint(0, size), random.randint(0, size))\n",
    "    guesses = guesses.append(guess)"
   ]
  },
  {
   "cell_type": "code",
   "execution_count": 73,
   "id": "baa7f728",
   "metadata": {},
   "outputs": [
    {
     "name": "stdout",
     "output_type": "stream",
     "text": [
      "[(2, 3), (2, 4), (1, 5), (3, 3)]\n"
     ]
    }
   ],
   "source": [
    "make_guess(5, guesses); print(guesses) # cool, seems to work"
   ]
  },
  {
   "cell_type": "code",
   "execution_count": 87,
   "id": "4f3de707",
   "metadata": {},
   "outputs": [],
   "source": [
    "# putting it all together: (half of it...)\n",
    "\n",
    "def play_game_v0(size = 10, ships = 3):\n",
    "    board = np.zeros((size, size)) # 0 = water, 1 = ship\n",
    "\n",
    "    # placing ships\n",
    "    for i in range(ships):\n",
    "        shipx = int(input(\"Enter an x position for ship \" + str(i) + ':'))\n",
    "        shipy = int(input(\"Enter an y position for ship \" + str(i) + ':'))\n",
    "        \n",
    "        while board[shipx, shipy] == 1:\n",
    "            print(\"Ship position already taken. Chose again\")\n",
    "            shipx = input(\"Enter an x position for ship \" + str(i) + ':')\n",
    "            shipy = input(\"Enter an y position for ship \" + str(i) + ':')\n",
    "        \n",
    "        board[shipx, shipy] = 1\n",
    "    \n",
    "    \n",
    "    plt.figure(figsize = [10, 10])\n",
    "    plt.imshow(board, cmap = 'gray')\n",
    "    plt.show()\n",
    "        \n",
    "    \n",
    "    # computer making guesses:\n",
    "    \n",
    "    guesses = []\n",
    "    \n",
    "    while np.any(board) == 1:\n",
    "        make_guess(size, guesses)\n",
    "        \n",
    "        print(\"Computer guess: \" + str(guesses[-1:]))\n",
    "        \n",
    "        if board[guesses[-1:][0][0], guesses[-1:][0][1]] == 0:\n",
    "            print('Miss!')\n",
    "            \n",
    "        if board[guesses[-1:][0][0], guesses[-1:][0][1]] == 1:\n",
    "            print('Hit!')\n",
    "            board[guesses[-1:][0][0], guesses[-1:][0][1]] = 0\n",
    "            \n",
    "    plt.figure(figsize = [10, 10])\n",
    "    plt.imshow(board, cmap = 'gray')\n"
   ]
  },
  {
   "cell_type": "code",
   "execution_count": 88,
   "id": "0e92a3fb",
   "metadata": {
    "scrolled": true
   },
   "outputs": [
    {
     "name": "stdout",
     "output_type": "stream",
     "text": [
      "Enter an x position for ship 0:5\n",
      "Enter an y position for ship 0:5\n"
     ]
    },
    {
     "data": {
      "image/png": "[encoded data removed]",
      "text/plain": [
       "<Figure size 720x720 with 1 Axes>"
      ]
     },
     "metadata": {
      "needs_background": "light"
     },
     "output_type": "display_data"
    },
    {
     "name": "stdout",
     "output_type": "stream",
     "text": [
      "Computer guess: [(7, 4)]\n",
      "Miss!\n",
      "Computer guess: [(2, 8)]\n",
      "Miss!\n",
      "Computer guess: [(3, 2)]\n",
      "Miss!\n",
      "Computer guess: [(2, 3)]\n",
      "Miss!\n",
      "Computer guess: [(4, 2)]\n",
      "Miss!\n",
      "Computer guess: [(9, 8)]\n",
      "Miss!\n",
      "Computer guess: [(8, 7)]\n",
      "Miss!\n",
      "Computer guess: [(1, 6)]\n",
      "Miss!\n",
      "Computer guess: [(3, 8)]\n",
      "Miss!\n",
      "Computer guess: [(4, 5)]\n",
      "Miss!\n",
      "Computer guess: [(4, 6)]\n",
      "Miss!\n",
      "Computer guess: [(5, 1)]\n",
      "Miss!\n",
      "Computer guess: [(9, 3)]\n",
      "Miss!\n",
      "Computer guess: [(3, 9)]\n",
      "Miss!\n",
      "Computer guess: [(5, 3)]\n",
      "Miss!\n",
      "Computer guess: [(1, 7)]\n",
      "Miss!\n",
      "Computer guess: [(4, 1)]\n",
      "Miss!\n",
      "Computer guess: [(4, 8)]\n",
      "Miss!\n",
      "Computer guess: [(5, 4)]\n",
      "Miss!\n",
      "Computer guess: [(1, 8)]\n",
      "Miss!\n",
      "Computer guess: [(3, 6)]\n",
      "Miss!\n",
      "Computer guess: [(5, 8)]\n",
      "Miss!\n",
      "Computer guess: [(0, 8)]\n",
      "Miss!\n",
      "Computer guess: [(9, 0)]\n",
      "Miss!\n",
      "Computer guess: [(8, 2)]\n",
      "Miss!\n",
      "Computer guess: [(7, 9)]\n",
      "Miss!\n",
      "Computer guess: [(9, 6)]\n",
      "Miss!\n",
      "Computer guess: [(4, 0)]\n",
      "Miss!\n",
      "Computer guess: [(1, 4)]\n",
      "Miss!\n",
      "Computer guess: [(7, 6)]\n",
      "Miss!\n",
      "Computer guess: [(7, 0)]\n",
      "Miss!\n",
      "Computer guess: [(8, 8)]\n",
      "Miss!\n",
      "Computer guess: [(7, 8)]\n",
      "Miss!\n",
      "Computer guess: [(6, 0)]\n",
      "Miss!\n",
      "Computer guess: [(5, 0)]\n",
      "Miss!\n",
      "Computer guess: [(1, 3)]\n",
      "Miss!\n",
      "Computer guess: [(3, 0)]\n",
      "Miss!\n",
      "Computer guess: [(2, 2)]\n",
      "Miss!\n",
      "Computer guess: [(3, 3)]\n",
      "Miss!\n",
      "Computer guess: [(3, 4)]\n",
      "Miss!\n",
      "Computer guess: [(7, 5)]\n",
      "Miss!\n",
      "Computer guess: [(8, 3)]\n",
      "Miss!\n",
      "Computer guess: [(8, 1)]\n",
      "Miss!\n",
      "Computer guess: [(9, 2)]\n",
      "Miss!\n",
      "Computer guess: [(7, 7)]\n",
      "Miss!\n",
      "Computer guess: [(9, 9)]\n",
      "Miss!\n",
      "Computer guess: [(0, 5)]\n",
      "Miss!\n",
      "Computer guess: [(0, 3)]\n",
      "Miss!\n",
      "Computer guess: [(8, 6)]\n",
      "Miss!\n",
      "Computer guess: [(6, 1)]\n",
      "Miss!\n",
      "Computer guess: [(2, 7)]\n",
      "Miss!\n",
      "Computer guess: [(6, 8)]\n",
      "Miss!\n",
      "Computer guess: [(9, 7)]\n",
      "Miss!\n",
      "Computer guess: [(2, 4)]\n",
      "Miss!\n",
      "Computer guess: [(1, 1)]\n",
      "Miss!\n",
      "Computer guess: [(0, 1)]\n",
      "Miss!\n",
      "Computer guess: [(5, 7)]\n",
      "Miss!\n",
      "Computer guess: [(8, 5)]\n",
      "Miss!\n",
      "Computer guess: [(8, 9)]\n",
      "Miss!\n",
      "Computer guess: [(7, 1)]\n",
      "Miss!\n",
      "Computer guess: [(0, 9)]\n",
      "Miss!\n",
      "Computer guess: [(8, 0)]\n",
      "Miss!\n",
      "Computer guess: [(6, 9)]\n",
      "Miss!\n",
      "Computer guess: [(2, 5)]\n",
      "Miss!\n",
      "Computer guess: [(0, 0)]\n",
      "Miss!\n",
      "Computer guess: [(0, 7)]\n",
      "Miss!\n",
      "Computer guess: [(4, 9)]\n",
      "Miss!\n",
      "Computer guess: [(1, 9)]\n",
      "Miss!\n",
      "Computer guess: [(0, 2)]\n",
      "Miss!\n",
      "Computer guess: [(5, 6)]\n",
      "Miss!\n",
      "Computer guess: [(7, 3)]\n",
      "Miss!\n",
      "Computer guess: [(9, 5)]\n",
      "Miss!\n",
      "Computer guess: [(4, 7)]\n",
      "Miss!\n",
      "Computer guess: [(2, 6)]\n",
      "Miss!\n",
      "Computer guess: [(5, 9)]\n",
      "Miss!\n",
      "Computer guess: [(4, 3)]\n",
      "Miss!\n",
      "Computer guess: [(0, 6)]\n",
      "Miss!\n",
      "Computer guess: [(1, 2)]\n",
      "Miss!\n",
      "Computer guess: [(2, 9)]\n",
      "Miss!\n",
      "Computer guess: [(0, 4)]\n",
      "Miss!\n",
      "Computer guess: [(6, 3)]\n",
      "Miss!\n",
      "Computer guess: [(9, 1)]\n",
      "Miss!\n",
      "Computer guess: [(3, 7)]\n",
      "Miss!\n",
      "Computer guess: [(1, 0)]\n",
      "Miss!\n",
      "Computer guess: [(7, 2)]\n",
      "Miss!\n",
      "Computer guess: [(3, 1)]\n",
      "Miss!\n",
      "Computer guess: [(2, 0)]\n",
      "Miss!\n",
      "Computer guess: [(3, 5)]\n",
      "Miss!\n",
      "Computer guess: [(1, 5)]\n",
      "Miss!\n",
      "Computer guess: [(6, 6)]\n",
      "Miss!\n",
      "Computer guess: [(5, 2)]\n",
      "Miss!\n",
      "Computer guess: [(8, 4)]\n",
      "Miss!\n",
      "Computer guess: [(6, 2)]\n",
      "Miss!\n",
      "Computer guess: [(9, 4)]\n",
      "Miss!\n",
      "Computer guess: [(5, 5)]\n",
      "Hit!\n"
     ]
    },
    {
     "data": {
      "image/png": "[encoded data removed]",
      "text/plain": [
       "<Figure size 720x720 with 1 Axes>"
      ]
     },
     "metadata": {
      "needs_background": "light"
     },
     "output_type": "display_data"
    }
   ],
   "source": [
    "play_game_v0(ships = 1)"
   ]
  },
  {
   "cell_type": "code",
   "execution_count": null,
   "id": "c37c397b",
   "metadata": {},
   "outputs": [],
   "source": [
    "# ok, got guts of it working, now I just need to add computer board and clean it up\n",
    "\n",
    "def play_game_v1(size = 10, ships = 3):\n",
    "    my_board = np.zeros((size, size))\n",
    "    computer_board = np.zeros((size, size))\n",
    "    \n",
    "    # placing MY ships\n",
    "    for i in range(ships):\n",
    "        shipx = int(input(\"Enter an x position for ship \" + str(i) + ': '))\n",
    "        shipy = int(input(\"Enter an y position for ship \" + str(i) + ': '))\n",
    "        \n",
    "        while my_board[shipx, shipy] == 1:\n",
    "            print(\"Ship position already taken. Chose again\")\n",
    "            shipx = input(\"Enter an x position for ship \" + str(i) + ': ')\n",
    "            shipy = input(\"Enter an y position for ship \" + str(i) + ': ')\n",
    "        \n",
    "        my_board[shipx, shipy] = 1\n",
    "    \n",
    "    # placing computer ships\n",
    "    for i in range(ships):\n",
    "        shipx = random.randint(0, size -1)\n",
    "        shipy = random.randint(0, size -1)\n",
    "        \n",
    "        while computer_board[shipx, shipy] == 1:\n",
    "            shipx = random.randint(0, size -1)\n",
    "            shipy = random.randint(0, size -1)\n",
    "        \n",
    "        computer_board[shipx, shipy] = 1\n",
    "            \n",
    "    plt.figure(figsize = [10, 5])\n",
    "    \n",
    "    plt.subplot(1,2,1)\n",
    "    plt.imshow(my_board.T, cmap = 'gray')\n",
    "    plt.title(\"My Ships\")\n",
    "    \n",
    "    plt.subplot(1,2,2)\n",
    "    plt.imshow(computer_board.T, cmap = 'gray')\n",
    "    plt.title(\"Enemy Ships (showing only while coding in process)\")\n",
    "    plt.show()\n",
    "    \n",
    "    \n",
    "    # making computer_guesses:\n",
    "    \n",
    "    computer_guesses = []\n",
    "    \n",
    "    while np.any(my_board) == 1 and np.any(computer_board) == 1:\n",
    "        \n",
    "        # my turn:\n",
    "        print(\"Make a guess!\")\n",
    "        guess_x = int(input(\"Enter x - guess position \"))\n",
    "        guess_y = int(input(\"Enter y - guess position \"))\n",
    "        \n",
    "        if computer_board[guess_x, guess_y] == 0:\n",
    "            print('Miss!')\n",
    "            \n",
    "        if computer_board[guess_x, guess_y] == 1:\n",
    "            print('Hit!')\n",
    "            \n",
    "            computer_board[guess_x, guess_y] = 0\n",
    "            \n",
    "            \n",
    "        print(\" \")\n",
    "        # computer turn:\n",
    "        make_guess(size, computer_guesses)\n",
    "        \n",
    "        print(\"Computer guess: \" + str(computer_guesses[-1:]))\n",
    "        \n",
    "        if my_board[computer_guesses[-1:][0][0], computer_guesses[-1:][0][1]] == 0:\n",
    "            print('Miss!')\n",
    "            \n",
    "        if my_board[computer_guesses[-1:][0][0], computer_guesses[-1:][0][1]] == 1:\n",
    "            print('Hit!')\n",
    "            my_board[computer_guesses[-1:][0][0], computer_guesses[-1:][0][1]] = 0\n",
    "            \n",
    "        print(\" \")\n",
    "    if np.any(my_board) == 1:\n",
    "        print(\"YOU WIN!\")\n",
    "        \n",
    "    if np.any(computer_board) == 1:\n",
    "        print(\"You Lose! Better luck next time :(\")\n",
    "        \n",
    "    plt.figure(figsize = [10,5])\n",
    "    plt.subplot(1,2,1)\n",
    "    plt.imshow(my_board.T, cmap = 'gray')\n",
    "    plt.title(\"My Ships\")\n",
    "    \n",
    "    plt.subplot(1,2,2)\n",
    "    plt.imshow(computer_board.T, cmap = 'gray')\n",
    "    plt.title(\"Enemy Ships\")\n",
    "    plt.show()\n",
    "    "
   ]
  },
  {
   "cell_type": "code",
   "execution_count": 111,
   "id": "01c9ad39",
   "metadata": {},
   "outputs": [
    {
     "name": "stdout",
     "output_type": "stream",
     "text": [
      "Enter an x position for ship 0:1\n",
      "Enter an y position for ship 0:1\n",
      "Enter an x position for ship 1:5\n",
      "Enter an y position for ship 1:5\n",
      "Enter an x position for ship 2:8\n",
      "Enter an y position for ship 2:8\n"
     ]
    },
    {
     "data": {
      "image/png": "[encoded data removed]",
      "text/plain": [
       "<Figure size 720x360 with 2 Axes>"
      ]
     },
     "metadata": {
      "needs_background": "light"
     },
     "output_type": "display_data"
    },
    {
     "name": "stdout",
     "output_type": "stream",
     "text": [
      "Make a guess!\n",
      "Enter x - guess position0\n",
      "Enter y - guess position8\n",
      "Hit!\n",
      "\n",
      "Computer guess: [(1, 7)]\n",
      "Miss!\n",
      "Make a guess!\n",
      "Enter x - guess position1\n",
      "Enter y - guess position6\n",
      "Hit!\n",
      "\n",
      "Computer guess: [(5, 9)]\n",
      "Miss!\n",
      "Make a guess!\n",
      "Enter x - guess position6\n",
      "Enter y - guess position9\n",
      "Hit!\n",
      "\n",
      "Computer guess: [(1, 5)]\n",
      "Miss!\n",
      "YOU WIN!\n"
     ]
    },
    {
     "data": {
      "image/png": "[encoded data removed]",
      "text/plain": [
       "<Figure size 720x360 with 2 Axes>"
      ]
     },
     "metadata": {
      "needs_background": "light"
     },
     "output_type": "display_data"
    }
   ],
   "source": [
    "play_game_v1()"
   ]
  },
  {
   "cell_type": "code",
   "execution_count": null,
   "id": "a740825c",
   "metadata": {},
   "outputs": [],
   "source": []
  }
 ],
 "metadata": {
  "kernelspec": {
   "display_name": "Python 3",
   "language": "python",
   "name": "python3"
  },
  "language_info": {
   "codemirror_mode": {
    "name": "ipython",
    "version": 3
   },
   "file_extension": ".py",
   "mimetype": "text/x-python",
   "name": "python",
   "nbconvert_exporter": "python",
   "pygments_lexer": "ipython3",
   "version": "3.8.8"
  }
 },
 "nbformat": 4,
 "nbformat_minor": 5
}
